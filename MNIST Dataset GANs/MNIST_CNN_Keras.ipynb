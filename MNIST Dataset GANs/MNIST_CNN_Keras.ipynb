{
  "nbformat": 4,
  "nbformat_minor": 0,
  "metadata": {
    "colab": {
      "name": "MNIST_CNN_Keras.ipynb",
      "provenance": [],
      "collapsed_sections": [],
      "mount_file_id": "11S8Rey1fybAYnBdqwkIoYaN01bBqNBOl",
      "authorship_tag": "ABX9TyPqbxcIlld09CqOww+rfzYu",
      "include_colab_link": true
    },
    "kernelspec": {
      "name": "python3",
      "display_name": "Python 3"
    }
  },
  "cells": [
    {
      "cell_type": "markdown",
      "metadata": {
        "id": "view-in-github",
        "colab_type": "text"
      },
      "source": [
        "<a href=\"https://colab.research.google.com/github/Meralbalik/Ind.-Work-/blob/master/MNIST_CNN_Keras.ipynb\" target=\"_parent\"><img src=\"https://colab.research.google.com/assets/colab-badge.svg\" alt=\"Open In Colab\"/></a>"
      ]
    },
    {
      "cell_type": "markdown",
      "metadata": {
        "id": "skyfPyYNaFR4",
        "colab_type": "text"
      },
      "source": [
        "# MNIST Data CNN using Keras"
      ]
    },
    {
      "cell_type": "code",
      "metadata": {
        "id": "mdCj5CPLZdyk",
        "colab_type": "code",
        "outputId": "375662ad-7508-4e16-9758-76a477490204",
        "colab": {
          "base_uri": "https://localhost:8080/",
          "height": 34
        }
      },
      "source": [
        "import numpy as np\n",
        "from keras.datasets import mnist\n",
        "from keras.models import Sequential\n",
        "from keras.layers import Conv2D, MaxPooling2D, Dense, Flatten\n",
        "import matplotlib.pyplot as plt\n",
        "from keras.utils import to_categorical"
      ],
      "execution_count": 0,
      "outputs": [
        {
          "output_type": "stream",
          "text": [
            "Using TensorFlow backend.\n"
          ],
          "name": "stderr"
        }
      ]
    },
    {
      "cell_type": "code",
      "metadata": {
        "id": "6K-KSSBZZd1j",
        "colab_type": "code",
        "outputId": "3b4b24b5-fd13-4cb5-9479-f40b443e11dd",
        "colab": {
          "base_uri": "https://localhost:8080/",
          "height": 51
        }
      },
      "source": [
        "(x_train, y_train), (x_test, y_test) = mnist.load_data()"
      ],
      "execution_count": 0,
      "outputs": [
        {
          "output_type": "stream",
          "text": [
            "Downloading data from https://s3.amazonaws.com/img-datasets/mnist.npz\n",
            "11493376/11490434 [==============================] - 0s 0us/step\n"
          ],
          "name": "stdout"
        }
      ]
    },
    {
      "cell_type": "code",
      "metadata": {
        "id": "3H-n0S0UZd4H",
        "colab_type": "code",
        "outputId": "b55d85d0-6ed3-44cf-ec6d-8632dcecf535",
        "colab": {
          "base_uri": "https://localhost:8080/",
          "height": 85
        }
      },
      "source": [
        "# datasize\n",
        "print(x_train.shape)\n",
        "print(y_train.shape)\n",
        "print(x_test.shape)\n",
        "print(y_test.shape)"
      ],
      "execution_count": 0,
      "outputs": [
        {
          "output_type": "stream",
          "text": [
            "(60000, 28, 28)\n",
            "(60000,)\n",
            "(10000, 28, 28)\n",
            "(10000,)\n"
          ],
          "name": "stdout"
        }
      ]
    },
    {
      "cell_type": "code",
      "metadata": {
        "id": "5Qg3cJkZZd6u",
        "colab_type": "code",
        "outputId": "9d5158d0-f96d-4ed8-ff76-6f21c1d57a00",
        "colab": {
          "base_uri": "https://localhost:8080/",
          "height": 265
        }
      },
      "source": [
        "# there are 60000 images in train set and 10000 in test set. Each of the images are in size of 28*28.\n",
        "\n",
        "image_index = 34 # select any index of image up to 60000\n",
        "plt.imshow(x_train[image_index], cmap='gray')\n",
        "plt.show()"
      ],
      "execution_count": 0,
      "outputs": [
        {
          "output_type": "display_data",
          "data": {
            "image/png": "[encoded data removed]",
            "text/plain": [
              "<Figure size 432x288 with 1 Axes>"
            ]
          },
          "metadata": {
            "tags": [],
            "needs_background": "light"
          }
        }
      ]
    },
    {
      "cell_type": "code",
      "metadata": {
        "id": "UFi92x2YZd9Q",
        "colab_type": "code",
        "outputId": "81967f6d-128d-4885-87d6-9c4cbf9240a7",
        "colab": {
          "base_uri": "https://localhost:8080/",
          "height": 51
        }
      },
      "source": [
        "# reshaping the images so that it can work with Keras API (number_of_images, rows, columns, dimension)\n",
        "# dimension is 1 if image is gray scale, 3 for RGB images\n",
        "\n",
        "x_train = x_train.reshape(x_train.shape[0],28,28,1)\n",
        "x_test = x_test.reshape(x_test.shape[0],28,28,1)\n",
        "print(x_train.shape)\n",
        "print(x_test.shape)"
      ],
      "execution_count": 0,
      "outputs": [
        {
          "output_type": "stream",
          "text": [
            "(60000, 28, 28, 1)\n",
            "(10000, 28, 28, 1)\n"
          ],
          "name": "stdout"
        }
      ]
    },
    {
      "cell_type": "code",
      "metadata": {
        "id": "22fdmtBEZeB-",
        "colab_type": "code",
        "colab": {}
      },
      "source": [
        "# data scaling and normalization (done to make algortihm to run faster)\n",
        "# making sure the values are float so that we can get decimal points after division\n",
        "\n",
        "x_train = x_train.astype('float32')\n",
        "x_test = x_test.astype('float32')"
      ],
      "execution_count": 0,
      "outputs": []
    },
    {
      "cell_type": "code",
      "metadata": {
        "id": "X5GLDbpgZeGq",
        "colab_type": "code",
        "colab": {}
      },
      "source": [
        "# normalizing RGB codes by dividing it to the max RGB value\n",
        "# subtracting 0.5 so that they will be uniformly distributed around zero.\n",
        "\n",
        "x_train /= 255 - 0.5\n",
        "x_test /= 255 - 0.5"
      ],
      "execution_count": 0,
      "outputs": []
    },
    {
      "cell_type": "code",
      "metadata": {
        "id": "vumuAb5OZeJU",
        "colab_type": "code",
        "colab": {}
      },
      "source": [
        "# creating a Sequential model for CNN in Keras\n",
        "\n",
        "num_filters = 8   # number of CNN layers\n",
        "filter_size1 = 3\n",
        "pool_size1 = 2\n",
        "\n",
        "model = Sequential()\n",
        "model.add(Conv2D(num_filters, filter_size1, strides=(1,1), input_shape = (28,28,1)))\n",
        "model.add(MaxPooling2D(pool_size = pool_size1))\n",
        "model.add(Flatten())\n",
        "model.add(Dense(10, activation = 'softmax'))"
      ],
      "execution_count": 0,
      "outputs": []
    },
    {
      "cell_type": "code",
      "metadata": {
        "id": "5DMVgoNJ8Ul6",
        "colab_type": "code",
        "outputId": "dbea60c3-f1e7-4f6d-c381-555a0651d807",
        "colab": {
          "base_uri": "https://localhost:8080/",
          "height": 289
        }
      },
      "source": [
        "model.summary()"
      ],
      "execution_count": 0,
      "outputs": [
        {
          "output_type": "stream",
          "text": [
            "Model: \"sequential_1\"\n",
            "_________________________________________________________________\n",
            "Layer (type)                 Output Shape              Param #   \n",
            "=================================================================\n",
            "conv2d_1 (Conv2D)            (None, 26, 26, 8)         80        \n",
            "_________________________________________________________________\n",
            "max_pooling2d_1 (MaxPooling2 (None, 13, 13, 8)         0         \n",
            "_________________________________________________________________\n",
            "flatten_1 (Flatten)          (None, 1352)              0         \n",
            "_________________________________________________________________\n",
            "dense_1 (Dense)              (None, 10)                13530     \n",
            "=================================================================\n",
            "Total params: 13,610\n",
            "Trainable params: 13,610\n",
            "Non-trainable params: 0\n",
            "_________________________________________________________________\n"
          ],
          "name": "stdout"
        }
      ]
    },
    {
      "cell_type": "code",
      "metadata": {
        "id": "VZukdBf8ZeMM",
        "colab_type": "code",
        "outputId": "373ef3f1-4804-4e97-875b-386efae0597f",
        "colab": {
          "base_uri": "https://localhost:8080/",
          "height": 153
        }
      },
      "source": [
        "# compile the model\n",
        "\n",
        "model.compile('adam', loss = 'categorical_crossentropy', metrics = ['accuracy'])\n",
        "\n",
        "# train the model\n",
        "# to_categorical function is used for one hot encoding\n",
        "\n",
        "model.fit(x_train, to_categorical(y_train), epochs=3, verbose=1, validation_data=(x_test, to_categorical(y_test),))"
      ],
      "execution_count": 0,
      "outputs": [
        {
          "output_type": "stream",
          "text": [
            "Train on 60000 samples, validate on 10000 samples\n",
            "Epoch 1/3\n",
            "60000/60000 [==============================] - 17s 278us/step - loss: 0.3582 - accuracy: 0.8994 - val_loss: 0.2396 - val_accuracy: 0.9336\n",
            "Epoch 2/3\n",
            "60000/60000 [==============================] - 17s 288us/step - loss: 0.2087 - accuracy: 0.9411 - val_loss: 0.1712 - val_accuracy: 0.9534\n",
            "Epoch 3/3\n",
            "60000/60000 [==============================] - 17s 280us/step - loss: 0.1521 - accuracy: 0.9570 - val_loss: 0.1348 - val_accuracy: 0.9622\n"
          ],
          "name": "stdout"
        },
        {
          "output_type": "execute_result",
          "data": {
            "text/plain": [
              "<keras.callbacks.callbacks.History at 0x7f9183f0f0b8>"
            ]
          },
          "metadata": {
            "tags": []
          },
          "execution_count": 11
        }
      ]
    },
    {
      "cell_type": "code",
      "metadata": {
        "id": "gxq4eWzsZePM",
        "colab_type": "code",
        "colab": {}
      },
      "source": [
        "#score = model.evaluate(x_test, y_test)\n",
        "#print('Test Loss: ', score[0])\n",
        "#print('Test Accuracy: ', score[1])"
      ],
      "execution_count": 0,
      "outputs": []
    },
    {
      "cell_type": "code",
      "metadata": {
        "id": "8RmFjWCoZeSP",
        "colab_type": "code",
        "outputId": "1167c206-4fe0-47c6-a9ce-65533b08c48d",
        "colab": {
          "base_uri": "https://localhost:8080/",
          "height": 306
        }
      },
      "source": [
        "# predict on the first 5 images\n",
        "\n",
        "predictions = model.predict(x_test[:5])\n",
        "print(predictions)\n",
        "\n",
        "# print our model's predictions\n",
        "print(np.argmax(predictions, axis=1)) #[7,2,1,0,4]\n",
        "\n",
        "# check our predictions against the ground truths\n",
        "print(y_test[:5]) #[7,2,1,0,4]"
      ],
      "execution_count": 0,
      "outputs": [
        {
          "output_type": "stream",
          "text": [
            "[[1.91520326e-06 1.53574806e-08 1.25553061e-05 2.02295347e-03\n",
            "  8.22060429e-07 3.33611679e-05 7.73860309e-10 9.97823954e-01\n",
            "  1.11355951e-06 1.03184932e-04]\n",
            " [3.39118211e-04 4.89220474e-06 9.97639179e-01 1.47268365e-04\n",
            "  1.08702325e-10 2.09789563e-04 1.33271993e-03 3.21531565e-13\n",
            "  3.27151327e-04 3.78111853e-09]\n",
            " [2.11471361e-05 9.95043278e-01 2.20512203e-03 1.15192583e-04\n",
            "  5.29466546e-04 9.44635758e-05 1.50084641e-04 1.64817879e-03\n",
            "  1.68306738e-04 2.48372271e-05]\n",
            " [9.94771302e-01 3.64047963e-07 1.98981096e-03 6.62632374e-06\n",
            "  1.33313470e-05 2.60609691e-03 1.28756408e-04 3.33196280e-04\n",
            "  8.48003547e-05 6.58348799e-05]\n",
            " [1.70790619e-04 3.47537389e-06 1.91261817e-04 1.47890496e-05\n",
            "  9.97058868e-01 1.13042497e-05 1.10788475e-04 2.94928963e-04\n",
            "  3.44471773e-05 2.10935576e-03]]\n",
            "[7 2 1 0 4]\n",
            "[7 2 1 0 4]\n"
          ],
          "name": "stdout"
        }
      ]
    },
    {
      "cell_type": "code",
      "metadata": {
        "id": "xBCiFVu_djAr",
        "colab_type": "code",
        "colab": {}
      },
      "source": [
        ""
      ],
      "execution_count": 0,
      "outputs": []
    }
  ]
}
